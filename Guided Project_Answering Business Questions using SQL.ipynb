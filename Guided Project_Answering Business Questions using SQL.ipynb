{
 "cells": [
  {
   "cell_type": "markdown",
   "metadata": {
    "collapsed": true
   },
   "source": [
    "## Introduction\n",
    "\n",
    "We will continue to investigate the Chinook database and answer some business questions using SQL."
   ]
  },
  {
   "cell_type": "code",
   "execution_count": 1,
   "metadata": {
    "collapsed": false
   },
   "outputs": [
    {
     "data": {
      "text/plain": [
       "'Connected: None@chinook.db'"
      ]
     },
     "execution_count": 1,
     "metadata": {},
     "output_type": "execute_result"
    }
   ],
   "source": [
    "%%capture\n",
    "%load_ext sql\n",
    "%sql sqlite:///chinook.db"
   ]
  },
  {
   "cell_type": "markdown",
   "metadata": {},
   "source": [
    "## Overview of the Data"
   ]
  },
  {
   "cell_type": "code",
   "execution_count": 2,
   "metadata": {
    "collapsed": false
   },
   "outputs": [
    {
     "name": "stdout",
     "output_type": "stream",
     "text": [
      "Done.\n",
      "Done.\n"
     ]
    },
    {
     "data": {
      "text/plain": [
       "[]"
      ]
     },
     "execution_count": 2,
     "metadata": {},
     "output_type": "execute_result"
    }
   ],
   "source": [
    "%%sql\n",
    "SELECT\n",
    "    name,\n",
    "    type\n",
    "FROM sqlite_master\n",
    "WHERE type IN ('table', 'view');\n",
    "\n",
    "-- this query return information on the tables and views of database"
   ]
  },
  {
   "cell_type": "code",
   "execution_count": 3,
   "metadata": {
    "collapsed": false
   },
   "outputs": [
    {
     "name": "stdout",
     "output_type": "stream",
     "text": [
      "Done.\n",
      "Done.\n"
     ]
    },
    {
     "data": {
      "text/plain": [
       "[]"
      ]
     },
     "execution_count": 3,
     "metadata": {},
     "output_type": "execute_result"
    }
   ],
   "source": [
    "%%sql\n",
    "SELECT\n",
    "    DISTINCT(name) genre_types\n",
    "FROM genre;\n",
    "\n",
    "-- practice query"
   ]
  },
  {
   "cell_type": "code",
   "execution_count": 4,
   "metadata": {
    "collapsed": false
   },
   "outputs": [
    {
     "name": "stdout",
     "output_type": "stream",
     "text": [
      "Done.\n",
      "Done.\n"
     ]
    },
    {
     "data": {
      "text/plain": [
       "[]"
      ]
     },
     "execution_count": 4,
     "metadata": {},
     "output_type": "execute_result"
    }
   ],
   "source": [
    "%%sql\n",
    "WITH subquery AS\n",
    "(\n",
    "SELECT\n",
    "    CASE\n",
    "        WHEN name LIKE \"A%\" THEN \"a_artists\"\n",
    "        WHEN name LIKE \"B%\" THEN \"b_artists\"\n",
    "        WHEN name LIKE \"C%\" THEN \"c_artists\"\n",
    "        WHEN name LIKE \"D%\" THEN \"d_artists\"\n",
    "        WHEN name LIKE \"E%\" THEN \"e_artists\"\n",
    "        WHEN name LIKE \"F%\" THEN \"f_artists\"\n",
    "        WHEN name LIKE \"G%\" THEN \"g_artists\"\n",
    "        ELSE \"unsorted\"\n",
    "        END\n",
    "        AS alph_artist\n",
    "FROM artist\n",
    ")\n",
    "\n",
    "SELECT\n",
    "    DISTINCT alph_artist,\n",
    "    COUNT(alph_artist) count\n",
    "FROM subquery\n",
    "GROUP BY alph_artist;\n",
    "\n",
    "-- practice query"
   ]
  },
  {
   "cell_type": "markdown",
   "metadata": {},
   "source": [
    "## Selecting albums to purchase"
   ]
  },
  {
   "cell_type": "code",
   "execution_count": 5,
   "metadata": {
    "collapsed": false,
    "scrolled": true
   },
   "outputs": [
    {
     "name": "stdout",
     "output_type": "stream",
     "text": [
      "Done.\n"
     ]
    },
    {
     "data": {
      "text/html": [
       "<table>\n",
       "    <tr>\n",
       "        <th>genre</th>\n",
       "        <th>track_count</th>\n",
       "        <th>percentage</th>\n",
       "    </tr>\n",
       "    <tr>\n",
       "        <td>Rock</td>\n",
       "        <td>561</td>\n",
       "        <td>0.5337773549000951</td>\n",
       "    </tr>\n",
       "    <tr>\n",
       "        <td>Alternative &amp; Punk</td>\n",
       "        <td>130</td>\n",
       "        <td>0.12369172216936251</td>\n",
       "    </tr>\n",
       "    <tr>\n",
       "        <td>Metal</td>\n",
       "        <td>124</td>\n",
       "        <td>0.11798287345385347</td>\n",
       "    </tr>\n",
       "    <tr>\n",
       "        <td>R&amp;B/Soul</td>\n",
       "        <td>53</td>\n",
       "        <td>0.05042816365366318</td>\n",
       "    </tr>\n",
       "    <tr>\n",
       "        <td>Blues</td>\n",
       "        <td>36</td>\n",
       "        <td>0.03425309229305423</td>\n",
       "    </tr>\n",
       "    <tr>\n",
       "        <td>Alternative</td>\n",
       "        <td>35</td>\n",
       "        <td>0.03330161750713606</td>\n",
       "    </tr>\n",
       "    <tr>\n",
       "        <td>Latin</td>\n",
       "        <td>22</td>\n",
       "        <td>0.02093244529019981</td>\n",
       "    </tr>\n",
       "    <tr>\n",
       "        <td>Pop</td>\n",
       "        <td>22</td>\n",
       "        <td>0.02093244529019981</td>\n",
       "    </tr>\n",
       "    <tr>\n",
       "        <td>Hip Hop/Rap</td>\n",
       "        <td>20</td>\n",
       "        <td>0.019029495718363463</td>\n",
       "    </tr>\n",
       "    <tr>\n",
       "        <td>Jazz</td>\n",
       "        <td>14</td>\n",
       "        <td>0.013320647002854425</td>\n",
       "    </tr>\n",
       "    <tr>\n",
       "        <td>Easy Listening</td>\n",
       "        <td>13</td>\n",
       "        <td>0.012369172216936251</td>\n",
       "    </tr>\n",
       "    <tr>\n",
       "        <td>Reggae</td>\n",
       "        <td>6</td>\n",
       "        <td>0.005708848715509039</td>\n",
       "    </tr>\n",
       "    <tr>\n",
       "        <td>Electronica/Dance</td>\n",
       "        <td>5</td>\n",
       "        <td>0.004757373929590866</td>\n",
       "    </tr>\n",
       "    <tr>\n",
       "        <td>Classical</td>\n",
       "        <td>4</td>\n",
       "        <td>0.003805899143672693</td>\n",
       "    </tr>\n",
       "    <tr>\n",
       "        <td>Heavy Metal</td>\n",
       "        <td>3</td>\n",
       "        <td>0.0028544243577545195</td>\n",
       "    </tr>\n",
       "    <tr>\n",
       "        <td>Soundtrack</td>\n",
       "        <td>2</td>\n",
       "        <td>0.0019029495718363464</td>\n",
       "    </tr>\n",
       "    <tr>\n",
       "        <td>TV Shows</td>\n",
       "        <td>1</td>\n",
       "        <td>0.0009514747859181732</td>\n",
       "    </tr>\n",
       "</table>"
      ],
      "text/plain": [
       "[('Rock', 561, 0.5337773549000951),\n",
       " ('Alternative & Punk', 130, 0.12369172216936251),\n",
       " ('Metal', 124, 0.11798287345385347),\n",
       " ('R&B/Soul', 53, 0.05042816365366318),\n",
       " ('Blues', 36, 0.03425309229305423),\n",
       " ('Alternative', 35, 0.03330161750713606),\n",
       " ('Latin', 22, 0.02093244529019981),\n",
       " ('Pop', 22, 0.02093244529019981),\n",
       " ('Hip Hop/Rap', 20, 0.019029495718363463),\n",
       " ('Jazz', 14, 0.013320647002854425),\n",
       " ('Easy Listening', 13, 0.012369172216936251),\n",
       " ('Reggae', 6, 0.005708848715509039),\n",
       " ('Electronica/Dance', 5, 0.004757373929590866),\n",
       " ('Classical', 4, 0.003805899143672693),\n",
       " ('Heavy Metal', 3, 0.0028544243577545195),\n",
       " ('Soundtrack', 2, 0.0019029495718363464),\n",
       " ('TV Shows', 1, 0.0009514747859181732)]"
      ]
     },
     "execution_count": 5,
     "metadata": {},
     "output_type": "execute_result"
    }
   ],
   "source": [
    "%%sql\n",
    "WITH tracks_sold_usa AS\n",
    "(\n",
    "SELECT\n",
    "    *\n",
    "FROM invoice_line il\n",
    "INNER JOIN invoice i ON i.invoice_id = il.invoice_id\n",
    "WHERE i.billing_country = \"USA\"\n",
    ")\n",
    "\n",
    "SELECT\n",
    "    g.name genre,\n",
    "    COUNT(ts.track_id) track_count,\n",
    "    CAST(COUNT(ts.track_id) AS FLOAT) / (SELECT COUNT(*) FROM tracks_sold_usa) percentage\n",
    "FROM tracks_sold_usa ts\n",
    "INNER JOIN track t ON t.track_id = ts.track_id\n",
    "INNER JOIN genre g ON g.genre_id = t.genre_id\n",
    "GROUP BY 1\n",
    "ORDER BY 3 DESC;"
   ]
  },
  {
   "cell_type": "code",
   "execution_count": 6,
   "metadata": {
    "collapsed": false
   },
   "outputs": [
    {
     "name": "stdout",
     "output_type": "stream",
     "text": [
      "Done.\n"
     ]
    },
    {
     "data": {
      "text/html": [
       "<table>\n",
       "    <tr>\n",
       "        <th>artist</th>\n",
       "        <th>album_title</th>\n",
       "        <th>track_sales</th>\n",
       "    </tr>\n",
       "    <tr>\n",
       "        <td>Jimi Hendrix</td>\n",
       "        <td>Are You Experienced?</td>\n",
       "        <td>28</td>\n",
       "    </tr>\n",
       "    <tr>\n",
       "        <td>Nirvana</td>\n",
       "        <td>From The Muddy Banks Of The Wishkah [live]</td>\n",
       "        <td>28</td>\n",
       "    </tr>\n",
       "    <tr>\n",
       "        <td>The Doors</td>\n",
       "        <td>The Doors</td>\n",
       "        <td>27</td>\n",
       "    </tr>\n",
       "</table>"
      ],
      "text/plain": [
       "[('Jimi Hendrix', 'Are You Experienced?', 28),\n",
       " ('Nirvana', 'From The Muddy Banks Of The Wishkah [live]', 28),\n",
       " ('The Doors', 'The Doors', 27)]"
      ]
     },
     "execution_count": 6,
     "metadata": {},
     "output_type": "execute_result"
    }
   ],
   "source": [
    "%%sql\n",
    "WITH tracks_sold_usa AS\n",
    "(\n",
    "SELECT\n",
    "    *\n",
    "FROM invoice_line il\n",
    "INNER JOIN invoice i ON i.invoice_id = il.invoice_id\n",
    "WHERE i.billing_country = \"USA\"\n",
    ")\n",
    "\n",
    "SELECT\n",
    "    ar.name artist,\n",
    "    a.title album_title,\n",
    "    SUM(ts.quantity) track_sales\n",
    "FROM tracks_sold_usa ts\n",
    "INNER JOIN track t ON t.track_id = ts.track_id\n",
    "INNER JOIN album a on a.album_id = t.album_id\n",
    "INNER JOIN artist ar on a.artist_id = ar.artist_id\n",
    "GROUP BY t.album_id\n",
    "ORDER BY 3 DESC\n",
    "LIMIT 3;"
   ]
  },
  {
   "cell_type": "markdown",
   "metadata": {},
   "source": [
    "We find that Rock is by far the most popular genre in the US by track sales, with over 50% of all sales generated by this genre. \n",
    "\n",
    "Upon further investigation, we find the the most frequently bought album in the USA are:\n",
    "* Are You Experienced? by Jimi Hendrix\n",
    "* From The Muddy Banks Of The Wishkah[live] by Nirvana\n",
    "* The Doors by The Doors"
   ]
  },
  {
   "cell_type": "markdown",
   "metadata": {},
   "source": [
    "## Analysing Employee Sales Performance"
   ]
  },
  {
   "cell_type": "code",
   "execution_count": 7,
   "metadata": {
    "collapsed": false
   },
   "outputs": [
    {
     "name": "stdout",
     "output_type": "stream",
     "text": [
      "Done.\n"
     ]
    },
    {
     "data": {
      "text/html": [
       "<table>\n",
       "    <tr>\n",
       "        <th>sales</th>\n",
       "        <th>employee_id</th>\n",
       "        <th>employee</th>\n",
       "        <th>title</th>\n",
       "        <th>hire_date</th>\n",
       "        <th>account_count</th>\n",
       "    </tr>\n",
       "    <tr>\n",
       "        <td>1731.5099999999998</td>\n",
       "        <td>3</td>\n",
       "        <td>Jane Peacock</td>\n",
       "        <td>Sales Support Agent</td>\n",
       "        <td>2017-04-01 00:00:00</td>\n",
       "        <td>21</td>\n",
       "    </tr>\n",
       "    <tr>\n",
       "        <td>1584.0000000000002</td>\n",
       "        <td>4</td>\n",
       "        <td>Margaret Park</td>\n",
       "        <td>Sales Support Agent</td>\n",
       "        <td>2017-05-03 00:00:00</td>\n",
       "        <td>20</td>\n",
       "    </tr>\n",
       "    <tr>\n",
       "        <td>1393.92</td>\n",
       "        <td>5</td>\n",
       "        <td>Steve Johnson</td>\n",
       "        <td>Sales Support Agent</td>\n",
       "        <td>2017-10-17 00:00:00</td>\n",
       "        <td>18</td>\n",
       "    </tr>\n",
       "    <tr>\n",
       "        <td>None</td>\n",
       "        <td>1</td>\n",
       "        <td>Andrew Adams</td>\n",
       "        <td>General Manager</td>\n",
       "        <td>2016-08-14 00:00:00</td>\n",
       "        <td>0</td>\n",
       "    </tr>\n",
       "    <tr>\n",
       "        <td>None</td>\n",
       "        <td>2</td>\n",
       "        <td>Nancy Edwards</td>\n",
       "        <td>Sales Manager</td>\n",
       "        <td>2016-05-01 00:00:00</td>\n",
       "        <td>0</td>\n",
       "    </tr>\n",
       "    <tr>\n",
       "        <td>None</td>\n",
       "        <td>6</td>\n",
       "        <td>Michael Mitchell</td>\n",
       "        <td>IT Manager</td>\n",
       "        <td>2016-10-17 00:00:00</td>\n",
       "        <td>0</td>\n",
       "    </tr>\n",
       "    <tr>\n",
       "        <td>None</td>\n",
       "        <td>7</td>\n",
       "        <td>Robert King</td>\n",
       "        <td>IT Staff</td>\n",
       "        <td>2017-01-02 00:00:00</td>\n",
       "        <td>0</td>\n",
       "    </tr>\n",
       "    <tr>\n",
       "        <td>None</td>\n",
       "        <td>8</td>\n",
       "        <td>Laura Callahan</td>\n",
       "        <td>IT Staff</td>\n",
       "        <td>2017-03-04 00:00:00</td>\n",
       "        <td>0</td>\n",
       "    </tr>\n",
       "</table>"
      ],
      "text/plain": [
       "[(1731.5099999999998, 3, 'Jane Peacock', 'Sales Support Agent', '2017-04-01 00:00:00', 21),\n",
       " (1584.0000000000002, 4, 'Margaret Park', 'Sales Support Agent', '2017-05-03 00:00:00', 20),\n",
       " (1393.92, 5, 'Steve Johnson', 'Sales Support Agent', '2017-10-17 00:00:00', 18),\n",
       " (None, 1, 'Andrew Adams', 'General Manager', '2016-08-14 00:00:00', 0),\n",
       " (None, 2, 'Nancy Edwards', 'Sales Manager', '2016-05-01 00:00:00', 0),\n",
       " (None, 6, 'Michael Mitchell', 'IT Manager', '2016-10-17 00:00:00', 0),\n",
       " (None, 7, 'Robert King', 'IT Staff', '2017-01-02 00:00:00', 0),\n",
       " (None, 8, 'Laura Callahan', 'IT Staff', '2017-03-04 00:00:00', 0)]"
      ]
     },
     "execution_count": 7,
     "metadata": {},
     "output_type": "execute_result"
    }
   ],
   "source": [
    "%%sql\n",
    "\n",
    "WITH spending_per_cust AS\n",
    "(\n",
    "SELECT\n",
    "    i.customer_id,\n",
    "    (c.first_name||\"\"||c.last_name) customer,\n",
    "    c.support_rep_id,\n",
    "    SUM(i.total) total_spending\n",
    "FROM invoice i\n",
    "INNER JOIN customer c ON c.customer_id = i.customer_id\n",
    "GROUP BY 1\n",
    ")\n",
    "\n",
    "SELECT\n",
    "    SUM(spc.total_spending) sales,\n",
    "    e.employee_id,\n",
    "    (e.first_name||\" \"||e.last_name) employee,\n",
    "    e.title,\n",
    "    e.hire_date,\n",
    "    COUNT(spc.customer_id) account_count\n",
    "FROM employee e\n",
    "LEFT JOIN spending_per_cust spc ON spc.support_rep_id = e.employee_id\n",
    "GROUP BY 2\n",
    "ORDER BY 1 DESC;"
   ]
  },
  {
   "cell_type": "markdown",
   "metadata": {},
   "source": [
    "From our analysis we see that Jane Peacock was the best sales agent with a sales figure of USD 1731.51, followed by Margaret Parker with USD 1584 in her total sales, then followed by Steve Johnson with sales of USD 1393.92.\n",
    "\n",
    "We noticed that only the sales representatives have accounts under their name and hence the rest of the staff does not have sales figures assigned to them.\n",
    "\n",
    "Upon further investigation, we found that the earlier the hire date for an employee, the more accounts they are assigned, which contributes to higher sales. This is not suprising, however, the direct correlation made it seem as if the difference in sales value was more contributed to by an employee's tenure instead of sales ability."
   ]
  },
  {
   "cell_type": "markdown",
   "metadata": {},
   "source": [
    "## Analyzing Sales by Country\n",
    "\n",
    "Now we will look to find the following figures for each country:\n",
    "* total number of customers\n",
    "* total value of sales\n",
    "* average value of sales per customer\n",
    "* average order value\n",
    "\n",
    "Though we will be grouping countrys with singular customers into the 'Other' category."
   ]
  },
  {
   "cell_type": "code",
   "execution_count": 8,
   "metadata": {
    "collapsed": false,
    "scrolled": true
   },
   "outputs": [
    {
     "name": "stdout",
     "output_type": "stream",
     "text": [
      "Done.\n"
     ]
    },
    {
     "data": {
      "text/html": [
       "<table>\n",
       "    <tr>\n",
       "        <th>country</th>\n",
       "        <th>total_sales</th>\n",
       "        <th>customer_count</th>\n",
       "        <th>avg_sales_per_customer</th>\n",
       "        <th>avg_order_value</th>\n",
       "    </tr>\n",
       "    <tr>\n",
       "        <td>USA</td>\n",
       "        <td>1040.4899999999998</td>\n",
       "        <td>13</td>\n",
       "        <td>80.0376923076923</td>\n",
       "        <td>7.942671755725189</td>\n",
       "    </tr>\n",
       "    <tr>\n",
       "        <td>Canada</td>\n",
       "        <td>535.5900000000001</td>\n",
       "        <td>8</td>\n",
       "        <td>66.94875000000002</td>\n",
       "        <td>7.047236842105265</td>\n",
       "    </tr>\n",
       "    <tr>\n",
       "        <td>Brazil</td>\n",
       "        <td>427.68000000000006</td>\n",
       "        <td>5</td>\n",
       "        <td>85.53600000000002</td>\n",
       "        <td>7.0111475409836075</td>\n",
       "    </tr>\n",
       "    <tr>\n",
       "        <td>France</td>\n",
       "        <td>389.0699999999999</td>\n",
       "        <td>5</td>\n",
       "        <td>77.81399999999998</td>\n",
       "        <td>7.781399999999998</td>\n",
       "    </tr>\n",
       "    <tr>\n",
       "        <td>Germany</td>\n",
       "        <td>334.62</td>\n",
       "        <td>4</td>\n",
       "        <td>83.655</td>\n",
       "        <td>8.161463414634147</td>\n",
       "    </tr>\n",
       "    <tr>\n",
       "        <td>Czech Republic</td>\n",
       "        <td>273.24000000000007</td>\n",
       "        <td>2</td>\n",
       "        <td>136.62000000000003</td>\n",
       "        <td>9.108000000000002</td>\n",
       "    </tr>\n",
       "    <tr>\n",
       "        <td>United Kingdom</td>\n",
       "        <td>245.52</td>\n",
       "        <td>3</td>\n",
       "        <td>81.84</td>\n",
       "        <td>8.768571428571429</td>\n",
       "    </tr>\n",
       "    <tr>\n",
       "        <td>Portugal</td>\n",
       "        <td>185.13000000000002</td>\n",
       "        <td>2</td>\n",
       "        <td>92.56500000000001</td>\n",
       "        <td>6.383793103448276</td>\n",
       "    </tr>\n",
       "    <tr>\n",
       "        <td>India</td>\n",
       "        <td>183.14999999999998</td>\n",
       "        <td>2</td>\n",
       "        <td>91.57499999999999</td>\n",
       "        <td>8.72142857142857</td>\n",
       "    </tr>\n",
       "    <tr>\n",
       "        <td>Other</td>\n",
       "        <td>1094.9400000000003</td>\n",
       "        <td>15</td>\n",
       "        <td>72.99600000000002</td>\n",
       "        <td>7.44857142857143</td>\n",
       "    </tr>\n",
       "</table>"
      ],
      "text/plain": [
       "[('USA', 1040.4899999999998, 13, 80.0376923076923, 7.942671755725189),\n",
       " ('Canada', 535.5900000000001, 8, 66.94875000000002, 7.047236842105265),\n",
       " ('Brazil', 427.68000000000006, 5, 85.53600000000002, 7.0111475409836075),\n",
       " ('France', 389.0699999999999, 5, 77.81399999999998, 7.781399999999998),\n",
       " ('Germany', 334.62, 4, 83.655, 8.161463414634147),\n",
       " ('Czech Republic', 273.24000000000007, 2, 136.62000000000003, 9.108000000000002),\n",
       " ('United Kingdom', 245.52, 3, 81.84, 8.768571428571429),\n",
       " ('Portugal', 185.13000000000002, 2, 92.56500000000001, 6.383793103448276),\n",
       " ('India', 183.14999999999998, 2, 91.57499999999999, 8.72142857142857),\n",
       " ('Other', 1094.9400000000003, 15, 72.99600000000002, 7.44857142857143)]"
      ]
     },
     "execution_count": 8,
     "metadata": {},
     "output_type": "execute_result"
    }
   ],
   "source": [
    "%%sql\n",
    "WITH invoice_customer_country AS\n",
    "(\n",
    "    SELECT\n",
    "       CASE\n",
    "           WHEN (\n",
    "                 SELECT count(*)\n",
    "                 FROM customer\n",
    "                 where country = c.country\n",
    "                ) = 1 THEN \"Other\"\n",
    "           ELSE c.country\n",
    "        END AS country,\n",
    "        i.*\n",
    "    FROM invoice i\n",
    "    LEFT JOIN customer c ON i.customer_id = c.customer_id\n",
    ")\n",
    "\n",
    "SELECT\n",
    "    country,\n",
    "    SUM(total) total_sales,\n",
    "    COUNT(DISTINCT customer_id) customer_count,\n",
    "    SUM(total) / COUNT(DISTINCT customer_id) avg_sales_per_customer,\n",
    "    SUM(total) / COUNT(*) avg_order_value\n",
    "FROM\n",
    "    (\n",
    "    SELECT\n",
    "        *,\n",
    "        CASE\n",
    "            WHEN country = \"Other\" THEN 1\n",
    "            ELSE 0\n",
    "        END AS sort\n",
    "    FROM invoice_customer_country\n",
    "    )\n",
    "GROUP BY 1\n",
    "ORDER BY sort ASC, 2 DESC;"
   ]
  },
  {
   "cell_type": "markdown",
   "metadata": {},
   "source": [
    "We can see that USA is the highest sales generating country and the largest market by customer count, therefore an extremely important market for the firm. Further resources should be invested in gaining deeper understanding the client base to increase sales.\n",
    "\n",
    "On the other hand, Czech Republic is the country with the highest value accounts, with average sales per customer at USD 136.62, which is way above the average of the other countries/regions. There are only two customers who are in this country, hence it will be smart to tailor a premium scheme to retain these high spending account.\n",
    "\n",
    "Canada, whilst having the second largest customer base, have the lowest sales per customer at USD 66.95. This suggest that we can target the market with discount or package schemes, which appeals to more price sensitive markets."
   ]
  },
  {
   "cell_type": "markdown",
   "metadata": {},
   "source": [
    "## Albums vs Individual Tracks\n",
    "\n",
    "Currently, the store  only allow the customers to make purchases in one of two ways:\n",
    "* purchase a whole album\n",
    "* purchase a collection of one or more individual tracks\n",
    "\n",
    "However, management is considering to change purchasing strategy to improve cost efficiency. They are considering to purchase only the most popluar tracks from each album from record companies, instead of purchasing every track from an album.\n",
    "\n",
    "To find whether this change in purchasing strategy is to be implemented, we have to find the percentage of purchases are individual vs whole album to understand effect on overall revenue.\n",
    "\n",
    "There are two 'edge cases' in this instance that we should look into. They are:\n",
    "* albums that only one or two tracks, hence likely to be purchased by customers as part of a collection of individual tracks\n",
    "* in order to get the few singles on top an album in a single purchase, customers might opt to manually select the album and singles together\n",
    "\n",
    "But since we are looking to maximise the revenue, we can ignore the first case, and company data shows that the second case does not happen often enough to effect results, and could be ignored as well.\n",
    "\n",
    "We will answer this question by finding the percentage of invoices that are of a single album only."
   ]
  },
  {
   "cell_type": "code",
   "execution_count": 9,
   "metadata": {
    "collapsed": false
   },
   "outputs": [
    {
     "name": "stdout",
     "output_type": "stream",
     "text": [
      "Done.\n"
     ]
    },
    {
     "data": {
      "text/html": [
       "<table>\n",
       "    <tr>\n",
       "        <th>album_or_track</th>\n",
       "        <th>invoice_count</th>\n",
       "        <th>percentage</th>\n",
       "    </tr>\n",
       "    <tr>\n",
       "        <td>album</td>\n",
       "        <td>171</td>\n",
       "        <td>27.85</td>\n",
       "    </tr>\n",
       "    <tr>\n",
       "        <td>tracks</td>\n",
       "        <td>443</td>\n",
       "        <td>72.15</td>\n",
       "    </tr>\n",
       "</table>"
      ],
      "text/plain": [
       "[('album', 171, 27.85), ('tracks', 443, 72.15)]"
      ]
     },
     "execution_count": 9,
     "metadata": {},
     "output_type": "execute_result"
    }
   ],
   "source": [
    "%%sql\n",
    "WITH invoice_album_track AS\n",
    "(\n",
    "    SELECT\n",
    "        ila.invoice_id,\n",
    "        CASE\n",
    "            WHEN (\n",
    "                SELECT count(DISTINCT t.album_id)\n",
    "                FROM invoice_line il\n",
    "                LEFT JOIN track t ON il.track_id = t.track_id\n",
    "                where il.invoice_id = ila.invoice_id\n",
    "                ) = 1 THEN \"album\"\n",
    "            ELSE \"tracks\"\n",
    "        END AS album_or_track\n",
    "    FROM invoice_line ila\n",
    "    LEFT JOIN track ta ON ila.track_id = ta.track_id\n",
    "    GROUP BY 1\n",
    ")\n",
    "\n",
    "SELECT\n",
    "    album_or_track,\n",
    "    COUNT(album_or_track) invoice_count,\n",
    "    ROUND(CAST((COUNT(album_or_track)*100) AS FLOAT) / (SELECT COUNT(*) FROM invoice_album_track),2) percentage\n",
    "FROM invoice_album_track\n",
    "GROUP BY 1;"
   ]
  },
  {
   "cell_type": "markdown",
   "metadata": {},
   "source": [
    "From the results we see that 72.2% of purchases were of selection of tracks instead of single albums, hence we would recommend changing the store's purchasing strategy from full albums to individual tracks as it seems to be more likely to eliminate unnecessary costs."
   ]
  },
  {
   "cell_type": "markdown",
   "metadata": {},
   "source": [
    "Alternative codes for this section.\n",
    "```\n",
    "%%sql\n",
    "\n",
    "WITH invoice_first_track AS\n",
    "    (\n",
    "     SELECT\n",
    "         il.invoice_id invoice_id,\n",
    "         MIN(il.track_id) first_track_id\n",
    "     FROM invoice_line il\n",
    "     GROUP BY 1\n",
    "    )\n",
    "\n",
    "SELECT\n",
    "    album_purchase,\n",
    "    COUNT(invoice_id) number_of_invoices,\n",
    "    CAST(count(invoice_id) AS FLOAT) / (\n",
    "                                         SELECT COUNT(*) FROM invoice\n",
    "                                      ) percent\n",
    "FROM\n",
    "    (\n",
    "    SELECT\n",
    "        ifs.*,\n",
    "        CASE\n",
    "            WHEN\n",
    "                 (\n",
    "                  SELECT t.track_id FROM track t\n",
    "                  WHERE t.album_id = (\n",
    "                                      SELECT t2.album_id FROM track t2\n",
    "                                      WHERE t2.track_id = ifs.first_track_id\n",
    "                                     ) \n",
    "\n",
    "                  EXCEPT \n",
    "\n",
    "                  SELECT il2.track_id FROM invoice_line il2\n",
    "                  WHERE il2.invoice_id = ifs.invoice_id\n",
    "                 ) IS NULL\n",
    "             AND\n",
    "                 (\n",
    "                  SELECT il2.track_id FROM invoice_line il2\n",
    "                  WHERE il2.invoice_id = ifs.invoice_id\n",
    "\n",
    "                  EXCEPT \n",
    "\n",
    "                  SELECT t.track_id FROM track t\n",
    "                  WHERE t.album_id = (\n",
    "                                      SELECT t2.album_id FROM track t2\n",
    "                                      WHERE t2.track_id = ifs.first_track_id\n",
    "                                     ) \n",
    "                 ) IS NULL\n",
    "             THEN \"yes\"\n",
    "             ELSE \"no\"\n",
    "         END AS \"album_purchase\"\n",
    "     FROM invoice_first_track ifs\n",
    "    )\n",
    "GROUP BY album_purchase;\n",
    "```"
   ]
  }
 ],
 "metadata": {
  "kernelspec": {
   "display_name": "Python 3",
   "language": "python",
   "name": "python3"
  },
  "language_info": {
   "codemirror_mode": {
    "name": "ipython",
    "version": 3
   },
   "file_extension": ".py",
   "mimetype": "text/x-python",
   "name": "python",
   "nbconvert_exporter": "python",
   "pygments_lexer": "ipython3",
   "version": "3.4.3"
  }
 },
 "nbformat": 4,
 "nbformat_minor": 2
}
